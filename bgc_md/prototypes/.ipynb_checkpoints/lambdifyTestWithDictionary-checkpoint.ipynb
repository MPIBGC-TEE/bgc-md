{
 "cells": [
  {
   "cell_type": "code",
   "execution_count": 2,
   "metadata": {
    "collapsed": false
   },
   "outputs": [
    {
     "name": "stdout",
     "output_type": "stream",
     "text": [
      "f1(2)\n"
     ]
    },
    {
     "data": {
      "text/plain": [
       "-0.57851517176712497"
      ]
     },
     "execution_count": 2,
     "metadata": {},
     "output_type": "execute_result"
    }
   ],
   "source": [
    "#lambdify test\n",
    "from sympy import symbols,sin,lambdify,pi,diff\n",
    "import numpy as np\n",
    "\n",
    "f1,t,x=symbols(\"f1,t,x\")\n",
    "test_exp=2*f1(x,t)\n",
    "diff(test_exp,t)\n",
    "\n",
    "def f1_fun(x,t):\n",
    "    #implementation of function with the symbol f1 in the sympy expression\n",
    "    return(-0.1*(np.sin(t)+1)*x)\n",
    "\n",
    "print(f1(2))\n",
    "my_func_dict={\"f1\":f1_fun}\n",
    "\n",
    "test_exp_func=lambdify((x,t),test_exp,modules=[my_func_dict,\"numpy\"])\n",
    "test_exp_func(np.pi/2,1)\n",
    "\n"
   ]
  },
  {
   "cell_type": "code",
   "execution_count": null,
   "metadata": {
    "collapsed": true
   },
   "outputs": [],
   "source": []
  }
 ],
 "metadata": {
  "kernelspec": {
   "display_name": "Python 3",
   "language": "python",
   "name": "python3"
  },
  "language_info": {
   "codemirror_mode": {
    "name": "ipython",
    "version": 3
   },
   "file_extension": ".py",
   "mimetype": "text/x-python",
   "name": "python",
   "nbconvert_exporter": "python",
   "pygments_lexer": "ipython3",
   "version": "3.4.3"
  }
 },
 "nbformat": 4,
 "nbformat_minor": 2
}
