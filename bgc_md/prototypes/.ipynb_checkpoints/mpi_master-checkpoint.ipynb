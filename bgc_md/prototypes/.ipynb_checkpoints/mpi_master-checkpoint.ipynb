{
 "cells": [
  {
   "cell_type": "code",
   "execution_count": 1,
   "metadata": {
    "collapsed": false,
    "scrolled": true
   },
   "outputs": [
    {
     "name": "stdout",
     "output_type": "stream",
     "text": [
      "[0, 1, 2]\n"
     ]
    },
    {
     "data": {
      "text/plain": [
       "array(17.0)"
      ]
     },
     "execution_count": 1,
     "metadata": {},
     "output_type": "execute_result"
    }
   ],
   "source": [
    "from mpi4py import MPI\n",
    "import numpy\n",
    "import sys\n",
    "import dill\n",
    "from mpi_master_slave_common_mod_for_functions import g \n",
    "\n",
    "def mpi_wrapper(np=2):\n",
    "    comm = MPI.COMM_SELF.Spawn(sys.executable,\n",
    "                               args=['mpi_slave.py'],\n",
    "                               maxprocs=np)\n",
    "    \n",
    "    # serialize and broadcast a function containing a lambda\n",
    "    f=lambda x:g(x)**2\n",
    "    comm.bcast(dill.dumps(f),root=MPI.ROOT)\n",
    "    \n",
    "    # now use recursive lambdas\n",
    "    f1=lambda x:f(x)\n",
    "    f2=lambda x:f1(x)\n",
    "    l=locals()\n",
    "    \n",
    "    comm.bcast(dill.dumps(l),root=MPI.ROOT)\n",
    "    \n",
    "    \n",
    "    # scatter data (one list element to every core)\n",
    "    data=[i for i in range(np)]\n",
    "    print(data)\n",
    "    comm.scatter(data,root=MPI.ROOT)\n",
    "    \n",
    "    PI = numpy.array(0, dtype='d')\n",
    "    comm.Reduce(None, [PI, MPI.DOUBLE],\n",
    "                op=MPI.SUM, root=MPI.ROOT)\n",
    "    ##\n",
    "    comm.Disconnect()\n",
    "    return(PI)\n",
    "\n",
    "mpi_wrapper(3)"
   ]
  }
 ],
 "metadata": {
  "kernelspec": {
   "display_name": "Python 3",
   "language": "python",
   "name": "python3"
  },
  "language_info": {
   "codemirror_mode": {
    "name": "ipython",
    "version": 3
   },
   "file_extension": ".py",
   "mimetype": "text/x-python",
   "name": "python",
   "nbconvert_exporter": "python",
   "pygments_lexer": "ipython3",
   "version": "3.4.5"
  }
 },
 "nbformat": 4,
 "nbformat_minor": 2
}
