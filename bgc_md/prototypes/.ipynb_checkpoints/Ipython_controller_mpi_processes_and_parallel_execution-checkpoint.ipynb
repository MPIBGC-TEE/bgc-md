{
 "cells": [
  {
   "cell_type": "code",
   "execution_count": 28,
   "metadata": {
    "collapsed": false
   },
   "outputs": [
    {
     "name": "stdout",
     "output_type": "stream",
     "text": [
      "ipcluster start --n 1 --engines=MPIEngineSetLauncher --cluster-id c1 --daemonize=True\n",
      "ipcluster stop --cluster-id c1\n"
     ]
    }
   ],
   "source": [
    "#parallel computation\n",
    "# fixme mm: \n",
    "# the subprocess has nothing to do with parallelization, iz just calls the commandlinetool to start \n",
    "# an ipcluster. Since ipcluster is written in pyhton it is highly probable that this is also \n",
    "# possible with a direct function call. \n",
    "# To get started we automate the manual version of the tutorial \n",
    "# http://ipyparallel.readthedocs.io/en/stable/mpi.html#additional-installation-requirements\n",
    "# and create one mpi process which can live on a different machine\n",
    "cluster_id=\"c1\"\n",
    "start_command=[\"ipcluster\",\"start\",\"--n\",\"16\",\"--engines=MPIEngineSetLauncher\",\"--cluster-id\",cluster_id,\"--daemonize=True\"]\n",
    "stop_command=[\"ipcluster\",\"stop\",\"--cluster-id\",cluster_id]\n",
    "from subprocess import call,check_call,CalledProcessError \n",
    "from time import sleep\n",
    "print(\" \".join(start_command))\n",
    "try:\n",
    "    check_call(start_command)\n",
    "except CalledProcessError:\n",
    "    print(\" \".join(stop_command))\n",
    "    check_call(stop_command)\n",
    "    sleep(4)\n",
    "    check_call(start_command)"
   ]
  },
  {
   "cell_type": "code",
   "execution_count": 26,
   "metadata": {
    "collapsed": false,
    "scrolled": true
   },
   "outputs": [
    {
     "data": {
      "text/plain": [
       "<DirectView [0]>"
      ]
     },
     "execution_count": 26,
     "metadata": {},
     "output_type": "execute_result"
    }
   ],
   "source": [
    "from ipyparallel import Client \n",
    "#c = Client(profile='mpi')\n",
    "c = Client()\n",
    "view=c[:]\n",
    "view.scatter('a',np.arange(16,dtype='float'))\n",
    "view"
   ]
  },
  {
   "cell_type": "code",
   "execution_count": 27,
   "metadata": {
    "collapsed": false
   },
   "outputs": [
    {
     "data": {
      "text/plain": [
       "[array([  0.,   1.,   2.,   3.,   4.,   5.,   6.,   7.,   8.,   9.,  10.,\n",
       "         11.,  12.,  13.,  14.,  15.])]"
      ]
     },
     "execution_count": 27,
     "metadata": {},
     "output_type": "execute_result"
    }
   ],
   "source": [
    "view['a']"
   ]
  },
  {
   "cell_type": "code",
   "execution_count": 28,
   "metadata": {
    "collapsed": true
   },
   "outputs": [],
   "source": [
    "%px totalsum = psum(a)"
   ]
  },
  {
   "cell_type": "code",
   "execution_count": 29,
   "metadata": {
    "collapsed": false
   },
   "outputs": [
    {
     "data": {
      "text/plain": [
       "[array(120.0)]"
      ]
     },
     "execution_count": 29,
     "metadata": {},
     "output_type": "execute_result"
    }
   ],
   "source": [
    "In [8]: view['totalsum']\n",
    "    "
   ]
  }
 ],
 "metadata": {
  "kernelspec": {
   "display_name": "Python 3",
   "language": "python",
   "name": "python3"
  },
  "language_info": {
   "codemirror_mode": {
    "name": "ipython",
    "version": 3
   },
   "file_extension": ".py",
   "mimetype": "text/x-python",
   "name": "python",
   "nbconvert_exporter": "python",
   "pygments_lexer": "ipython3",
   "version": "3.4.5"
  }
 },
 "nbformat": 4,
 "nbformat_minor": 2
}
