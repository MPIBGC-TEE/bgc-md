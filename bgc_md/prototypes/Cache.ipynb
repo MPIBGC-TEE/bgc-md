{
 "cells": [
  {
   "cell_type": "code",
   "execution_count": 18,
   "metadata": {
    "collapsed": false
   },
   "outputs": [
    {
     "name": "stdout",
     "output_type": "stream",
     "text": [
      "[[ 1.        ]\n",
      " [ 1.00007   ]\n",
      " [ 1.00013998]\n",
      " ..., \n",
      " [ 1.60964896]\n",
      " [ 1.60969451]\n",
      " [ 1.60974006]]\n",
      "[[  0.00000000e+00]\n",
      " [  1.00000000e-04]\n",
      " [  2.00000000e-04]\n",
      " ..., \n",
      " [  9.99800000e-01]\n",
      " [  9.99900000e-01]\n",
      " [  1.00000000e+00]]\n"
     ]
    }
   ],
   "source": [
    "from sympy              import symbols,sin,pi,Matrix,lambdify,flatten,eye\n",
    "from scipy.integrate    import odeint,ode\n",
    "import numpy as np\n",
    "\n",
    "x,t                 =   symbols(\"x,t\")\n",
    "u0                  =   symbols(\"u0\")\n",
    "k_min,k_max         =   symbols(\"k_min,k_max\",positive=True)\n",
    "omega_k             =   symbols(\"omega_k\")\n",
    "\n",
    "k   =   (k_max+k_min)/2+sin(omega_k*t)*(k_max-k_min)/2\n",
    "A   =   Matrix([[-k*(1+x)]])\n",
    "u   =   Matrix([[1+0.1*sin(t)]])\n",
    "\n",
    "X=Matrix([[x]])\n",
    "rhs =   A*X+u\n",
    "\n",
    "pars={\n",
    "    k_min:0.1,\n",
    "    k_max:0.2,\n",
    "    omega_k:2*pi}\n",
    "time_symbol=t\n",
    "\n",
    "ts=0;te=1;ns=11\n",
    "times=np.linspace(ts,te,ns)\n",
    "cacheTimes=np.linspace(ts,te,1000*(ns-1)+1)\n",
    "\n",
    "new_start_values=np.array([1]) \n",
    "rhs_par=rhs.subs(pars)\n",
    "state_variables=X\n",
    "\n",
    "\n",
    "tup     = tuple(state_variables) + (time_symbol,)\n",
    "F_num   = lambdify(tup, rhs_par, modules=\"numpy\")\n",
    "innerA  =lambdify(tup,A.subs(pars),modules=\"numpy\")\n",
    "\n",
    "def A_num(X,t):\n",
    "    t_max=times[-1]\n",
    "    if t>t_max:\n",
    "        return innerA(X,t_max)\n",
    "    return innerA(X,t)\n",
    "\n",
    "u_num   = lambdify((time_symbol,),u.subs(pars),modules=\"numpy\")\n",
    "#print(u_num(3))\n",
    "def num_rhs(X,t):\n",
    "    Xt = tuple(X) + (t,)\n",
    "    Aval=A_num(*Xt)\n",
    "    #Fval = F_num(*Xt)\n",
    "    Fval=Aval*Matrix(1,1,X)+u_num(t)\n",
    "    #print(Fval)\n",
    "    return flatten(Fval.tolist())\n",
    "def num_rhs_ode(t,X):\n",
    "    return num_rhs(X,t)\n",
    "\n",
    "soln = odeint(num_rhs, new_start_values, times, mxstep=500)\n",
    "def find_nearest_index(array,value):\n",
    "    idx = (np.abs(array-value)).argmin()\n",
    "    return idx\n",
    "\n",
    "class OdeCache:\n",
    "    def __init__(self,num_rhs,osv,times):\n",
    "        self.times=times\n",
    "        self.num_rhs=num_rhs\n",
    "        solver=ode(num_rhs_ode)\n",
    "        solver.set_integrator('lsoda')\n",
    "        solver.set_initial_value(osv,times[0])\n",
    "        ti=0\n",
    "        ts=[times[0]]\n",
    "        ys=[osv]\n",
    "        while solver.successful() and solver.t<times[-1]:\n",
    "            ti +=1\n",
    "            solver.integrate(times[ti])\n",
    "            ts.append(solver.t)\n",
    "            ys.append(solver.y)\n",
    "        sol_t= np.vstack(ts)\n",
    "        soln = np.vstack(ys)\n",
    "        self.values=soln\n",
    "        self.sol_t=sol_t\n",
    "        #self.values =odeint(num_rhs, new_start_values, times)\n",
    "\n",
    "    def new_val(self,t):\n",
    "        idx=find_nearest_index(self.times,t)\n",
    "        new_start=self.values[idx]\n",
    "        values =odeint(num_rhs, new_start, [self.times[idx],t] )\n",
    "        return values[-1,:]\n",
    "\n",
    "sc=OdeCache(num_rhs,new_start_values,cacheTimes)\n",
    "print(sc.values)\n",
    "print(sc.sol_t)\n"
   ]
  },
  {
   "cell_type": "code",
   "execution_count": 22,
   "metadata": {
    "collapsed": false
   },
   "outputs": [
    {
     "name": "stdout",
     "output_type": "stream",
     "text": [
      "1.24015277603e-07\n"
     ]
    },
    {
     "data": {
      "text/plain": [
       "array([[  0.00000000e+00],\n",
       "       [ -2.34297826e-09],\n",
       "       [  2.19839125e-09],\n",
       "       [  2.59088042e-08],\n",
       "       [  7.29958969e-08],\n",
       "       [  1.06278483e-07],\n",
       "       [  1.24015278e-07],\n",
       "       [  1.22904930e-07],\n",
       "       [  1.00746805e-07],\n",
       "       [  1.07134037e-08],\n",
       "       [ -2.00076788e-07]])"
      ]
     },
     "execution_count": 22,
     "metadata": {},
     "output_type": "execute_result"
    }
   ],
   "source": [
    "def A_of_t(tv):\n",
    "    #Xs,info = odeint(num_rhs, new_start_values, [0,tv/2,tv/2,tv*3/4,tv], full_output=1 )\n",
    "   # Xt = tuple(Xs[-1,:]) + (tv,)\n",
    "    Xt = tuple(sc.new_val(tv)) + (tv,)\n",
    "    val = A_num(*Xt)\n",
    "    return val\n",
    "    \n",
    "def lin_num_rhs(X,t):\n",
    "    # use the linearized version\n",
    "    #Aval=-.1*eye(1)\n",
    "    Aval=A_of_t(t)\n",
    "    Xt = tuple(X) + (t,)\n",
    "    #Aval=A_num(*Xt)\n",
    "    Fval=Aval*Matrix(1,1,X)+u_num(t)\n",
    "    return flatten(Fval.tolist())\n",
    "\n",
    "lin_soln = odeint(lin_num_rhs, new_start_values, times,  mxstep=500)\n",
    "    \n",
    "print(np.max(lin_soln-soln))\n",
    "lin_soln-soln      "
   ]
  },
  {
   "cell_type": "code",
   "execution_count": 12,
   "metadata": {
    "collapsed": true
   },
   "outputs": [],
   "source": [
    "solver=ode\n"
   ]
  },
  {
   "cell_type": "code",
   "execution_count": 13,
   "metadata": {
    "collapsed": true
   },
   "outputs": [],
   "source": [
    "?ode.set_f_params"
   ]
  },
  {
   "cell_type": "code",
   "execution_count": 14,
   "metadata": {
    "collapsed": true
   },
   "outputs": [],
   "source": [
    "?ode.set_solout"
   ]
  },
  {
   "cell_type": "code",
   "execution_count": null,
   "metadata": {
    "collapsed": true
   },
   "outputs": [],
   "source": []
  }
 ],
 "metadata": {
  "kernelspec": {
   "display_name": "Python 3",
   "language": "python",
   "name": "python3"
  },
  "language_info": {
   "codemirror_mode": {
    "name": "ipython",
    "version": 3
   },
   "file_extension": ".py",
   "mimetype": "text/x-python",
   "name": "python",
   "nbconvert_exporter": "python",
   "pygments_lexer": "ipython3",
   "version": "3.4.3"
  }
 },
 "nbformat": 4,
 "nbformat_minor": 1
}
