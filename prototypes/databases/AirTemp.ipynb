{
 "cells": [
  {
   "cell_type": "code",
   "execution_count": 1,
   "metadata": {},
   "outputs": [
    {
     "name": "stdout",
     "output_type": "stream",
     "text": [
      "AirTemp.ipynb              \u001b[0m\u001b[01;34mMySQL\u001b[0m/       \u001b[01;34mdata\u001b[0m/      iron.rc    \u001b[01;34mpandas\u001b[0m/\r\n",
      "\u001b[01;32mCreateAndQuery_SQLITE.py\u001b[0m*  \u001b[01;34mSQLAlchemy\u001b[0m/  django.py  netcdf.py\r\n"
     ]
    }
   ],
   "source": [
    "%ls"
   ]
  },
  {
   "cell_type": "code",
   "execution_count": 1,
   "metadata": {
    "scrolled": true
   },
   "outputs": [
    {
     "name": "stdout",
     "output_type": "stream",
     "text": [
      "<class 'netCDF4._netCDF4.Dataset'>\n",
      "root group (NETCDF4_CLASSIC data model, file format HDF5):\n",
      "    Conventions: CF-1.4\n",
      "    version: 1.0\n",
      "    comment: Averaged from 6-hourly CRUNCEP tair data\n",
      "    dimensions(sizes): lon(720), lat(360), time(12), nv(2)\n",
      "    variables(dimensions): |S1 \u001b[4mcrs\u001b[0m(), float64 \u001b[4mlon\u001b[0m(lon), float64 \u001b[4mlat\u001b[0m(lat), float64 \u001b[4mtime\u001b[0m(time), float64 \u001b[4mlon_bnds\u001b[0m(lon,nv), float64 \u001b[4mlat_bnds\u001b[0m(lat,nv), float64 \u001b[4mtime_bnds\u001b[0m(time,nv), float64 \u001b[4mTair_monthly\u001b[0m(time,lat,lon)\n",
      "    groups: \n",
      "\n"
     ]
    }
   ],
   "source": [
    "# %load netcdf.py\n",
    "import netCDF4\n",
    "import numpy as np\n",
    "import matplotlib.pyplot as plt\n",
    "from mpl_toolkits.mplot3d import Axes3D\n",
    "f= netCDF4.Dataset('data/mstmip_driver_global_hd_climate_tair_monthly_mean_1901_v1.nc4')\n",
    "print(f)\n",
    "lat=f.variables['lat']\n",
    "lon=f.variables['lon']\n",
    "airt=f.variables['Tair_monthly']\n",
    "\n",
    "latvals = lat[:]; lonvals = lon[:] \n",
    "# a function to find the index of the point closest pt\n",
    "# (in squared distance) to give lat/lon value.\n",
    "def dist(lats,lons,latpt,lonpt):\n",
    "    # find squared distance of every point on grid\n",
    "    dist_sq = (lats-latpt)**2 + (lons-lonpt)**2  \n",
    "    return dist_sq\n",
    "\n",
    "def getclosest_ij(lats,lons,latpt,lonpt):\n",
    "    # find squared distance of every point on grid\n",
    "    # 1D index of minimum dist_sq element\n",
    "    minindex_flattened = dist(lats,lons,latpt,lonpt).argmin()    \n",
    "    # Get 2D index for latvals and lonvals arrays from 1D index\n",
    "    tup=np.unravel_index(minindex_flattened, lats.shape)\n",
    "    return tup\n",
    "\n",
    "\n",
    "LAT,LON=np.meshgrid(lonvals,latvals)\n",
    "jena_lat,jena_lon=(50,11)\n",
    "\n",
    "f=plt.figure()\n",
    "ax=f.add_subplot(1,1,1,projection='3d')\n",
    "cs=ax.plot_surface(LAT, LON,dist(LAT,LON,50,11))\n",
    "i_lat,i_lon= getclosest_ij(LAT, LON,jena_lat,jena_lon)"
   ]
  },
  {
   "cell_type": "code",
   "execution_count": 17,
   "metadata": {},
   "outputs": [
    {
     "data": {
      "text/plain": [
       "3519.6428571428573"
      ]
     },
     "execution_count": 17,
     "metadata": {},
     "output_type": "execute_result"
    }
   ],
   "source": [
    "adpp=6.4/3/(2500-1765) #6.4MB for age density for 3 pools yearly from 1765 to 2500 in PNAS paper\n",
    "stopp=72/3 #72MB for state transition operator 3 pools in PNAS paper\n",
    "nts=365*4*(2010-1905)# number of time steps with pro pool 6hourly  \n",
    "nts=365/10*(2010-1905)# number of time steps with pro pool every 10 days  \n",
    "#nts=10\n",
    "nrp=10 # average number of pools?\n",
    "nrgrd=360*720\n",
    "nrgrd=180*180\n",
    "#example size inTB \n",
    "mem=nrgrd*nrp*nts*adpp/1024  #for age density in GB\n",
    "#mem*0.023  #for age density price on amazon per Month\n",
    "#nrgrd*nrp*nts*stopp/1024**2 #for statetrasitionoperator cache\n",
    "#%matplotlib inline\n",
    "#tair=f.variables['Tair_monthly']\n",
    "#print(tair)\n",
    "#for dname in tair.dimensions:\n",
    "#    print(f.variables[dname])\n",
    "mem"
   ]
  },
  {
   "cell_type": "code",
   "execution_count": 6,
   "metadata": {},
   "outputs": [
    {
     "data": {
      "text/plain": [
       "[<matplotlib.lines.Line2D at 0x7ff89316ff28>]"
      ]
     },
     "execution_count": 6,
     "metadata": {},
     "output_type": "execute_result"
    },
    {
     "data": {
      "image/png": "[encoded data removed]",
      "text/plain": [
       "<matplotlib.figure.Figure at 0x7ff892cf1cf8>"
      ]
     },
     "metadata": {},
     "output_type": "display_data"
    }
   ],
   "source": [
    "#plot temperature for January\n",
    "f=plt.figure()\n",
    "ax=f.add_subplot(1,1,1)\n",
    "cs=ax.contourf(LAT,LON,airt[0,:,:])\n",
    "ax.plot(lat[i_lat],lon[i_lon],'*',color=\"red\")"
   ]
  },
  {
   "cell_type": "code",
   "execution_count": 7,
   "metadata": {},
   "outputs": [
    {
     "data": {
      "text/plain": [
       "masked_array(data=[296.6541748 , 297.98782349, 299.8835144 , 302.08685303,\n",
       "                   303.78396606, 304.29071045, 303.69076538, 303.39562988,\n",
       "                   303.37884521, 300.9883728 , 298.57723999, 297.0874939 ,\n",
       "                   296.6541748 , 297.98782349, 299.8835144 , 302.08685303,\n",
       "                   303.78396606, 304.29071045, 303.69076538, 303.39562988,\n",
       "                   303.37884521, 300.9883728 , 298.57723999, 297.0874939 ],\n",
       "             mask=False,\n",
       "       fill_value=1e+20)"
      ]
     },
     "execution_count": 7,
     "metadata": {},
     "output_type": "execute_result"
    }
   ],
   "source": [
    "Jena_tmp=airt[:,i_lat,i_lon]\n",
    "np.append(Jena_tmp,Jena_tmp)"
   ]
  },
  {
   "cell_type": "code",
   "execution_count": 9,
   "metadata": {},
   "outputs": [],
   "source": [
    "Jena_tmp\n",
    "alltime=np.array([])\n",
    "for year in range (1901,2011):\n",
    "    filename= ('data/mstmip_driver_global_hd_climate_tair_monthly_mean_'+str(year)+'_v1.nc4')\n",
    "    f= netCDF4.Dataset(filename)\n",
    "    alltime=np.append(alltime,f.variables['Tair_monthly'][:,i_lat,i_lon])\n",
    "    "
   ]
  },
  {
   "cell_type": "code",
   "execution_count": 13,
   "metadata": {},
   "outputs": [
    {
     "data": {
      "text/plain": [
       "[<matplotlib.lines.Line2D at 0x7ff892d08d30>]"
      ]
     },
     "execution_count": 13,
     "metadata": {},
     "output_type": "execute_result"
    },
    {
     "data": {
      "image/png": "[encoded data removed]",
      "text/plain": [
       "<matplotlib.figure.Figure at 0x7ff8930fd908>"
      ]
     },
     "metadata": {},
     "output_type": "display_data"
    }
   ],
   "source": [
    "alltime.shape\n",
    "\n",
    "plt.plot(alltime[1:40])\n"
   ]
  },
  {
   "cell_type": "code",
   "execution_count": null,
   "metadata": {},
   "outputs": [],
   "source": []
  }
 ],
 "metadata": {
  "kernelspec": {
   "display_name": "Python 3",
   "language": "python",
   "name": "python3"
  },
  "language_info": {
   "codemirror_mode": {
    "name": "ipython",
    "version": 3
   },
   "file_extension": ".py",
   "mimetype": "text/x-python",
   "name": "python",
   "nbconvert_exporter": "python",
   "pygments_lexer": "ipython3",
   "version": "3.6.5"
  }
 },
 "nbformat": 4,
 "nbformat_minor": 2
}
