{
 "cells": [
  {
   "cell_type": "code",
   "execution_count": 16,
   "metadata": {},
   "outputs": [
    {
     "name": "stdout",
     "output_type": "stream",
     "text": [
      "############################################\n",
      "in function: srcPath\n",
      "p = /home/mm/bgc-md/prototypes/ModelsAsScriptsWithSpecialVarNames/models/miniCable/source.py\n",
      " type: <class 'pathlib.PosixPath'>\n",
      "############################################\n"
     ]
    },
    {
     "data": {
      "text/plain": [
       "['coord_sys',\n",
       " 'input_vector',\n",
       " 'compartmental_dyad',\n",
       " 'time_symbol',\n",
       " 'state_vector',\n",
       " 'cumulative_vegetation_input',\n",
       " 'smooth_model_run_dictionary']"
      ]
     },
     "execution_count": 16,
     "metadata": {},
     "output_type": "execute_result"
    }
   ],
   "source": [
    "from bgc_md.resolve.helpers import  get3, computable_mvars\n",
    "from bgc_md.resolve.MVar import MVar\n",
    "from bgc_md.resolve.Computer import Computer\n",
    "from bgc_md.resolve.functions import srm_from_B_u_tens\n",
    "from bgc_md.resolve.IndexedSet import IndexedSet\n",
    "from bgc_md.resolve.MvarsAndComputers import Mvars as myMvars\n",
    "from bgc_md.resolve.MvarsAndComputers import Computers as myComputers\n",
    "from bgc_md.resolve.helpers import get_bgc,populated_namespace, computable_mvars, names_of_available_mvars\n",
    "\n",
    "from sympy import latex\n",
    "from IPython.display import display, Math, display_markdown\n",
    "#lets pick a model from our database\n",
    "mod_id=\"miniCable\"\n",
    "# see what variables were defined by the user:\n",
    "names_of_available_mvars(mod_id)"
   ]
  },
  {
   "cell_type": "code",
   "execution_count": 17,
   "metadata": {},
   "outputs": [
    {
     "name": "stdout",
     "output_type": "stream",
     "text": [
      "############################################\n",
      "in function: srcPath\n",
      "p = /home/mm/bgc-md/prototypes/ModelsAsScriptsWithSpecialVarNames/models/miniCable/source.py\n",
      " type: <class 'pathlib.PosixPath'>\n",
      "############################################\n"
     ]
    }
   ],
   "source": [
    "# and which variables we can already compute from it\n",
    "cmvs=computable_mvars(myMvars,myComputers,names_of_available_mvars(mod_id))"
   ]
  },
  {
   "cell_type": "code",
   "execution_count": 20,
   "metadata": {},
   "outputs": [
    {
     "data": {
      "text/plain": [
       "['state_tuple',\n",
       " 'compartmental_matrix',\n",
       " 'input_tuple',\n",
       " 'coord_sys',\n",
       " 'time_symbol',\n",
       " 'smooth_model_run_dictionary',\n",
       " 'smooth_reservoir_model',\n",
       " 'soil_decomposition_matrix_N',\n",
       " 'state_vector',\n",
       " 'compartmental_dyad',\n",
       " 'soil_transport_matrix_T',\n",
       " 'input_vector',\n",
       " 'soil_scaling_matrix_xi']"
      ]
     },
     "execution_count": 20,
     "metadata": {},
     "output_type": "execute_result"
    }
   ],
   "source": [
    "[mv.name for mv in cmvs]"
   ]
  },
  {
   "cell_type": "code",
   "execution_count": 25,
   "metadata": {},
   "outputs": [
    {
     "name": "stdout",
     "output_type": "stream",
     "text": [
      "############################################\n",
      "in function: srcPath\n",
      "p = /home/mm/bgc-md/prototypes/ModelsAsScriptsWithSpecialVarNames/models/miniCable/source.py\n",
      " type: <class 'pathlib.PosixPath'>\n",
      "############################################\n"
     ]
    },
    {
     "data": {
      "text/plain": [
       "CompartmentalSystems.smooth_reservoir_model.SmoothReservoirModel"
      ]
     },
     "execution_count": 25,
     "metadata": {},
     "output_type": "execute_result"
    }
   ],
   "source": [
    "# now let us look at a compartmental model\n",
    "srm=get3(var_name=\"smooth_reservoir_model\",allMvars=myMvars,allComputers=myComputers,model_id='miniCable')\n",
    "type(srm)"
   ]
  },
  {
   "cell_type": "code",
   "execution_count": 38,
   "metadata": {},
   "outputs": [
    {
     "data": {
      "text/plain": [
       "['F',\n",
       " 'compartmental_matrix',\n",
       " 'external_inputs',\n",
       " 'external_outputs',\n",
       " 'free_symbols',\n",
       " 'function_expressions',\n",
       " 'internal_inputs',\n",
       " 'internal_outputs',\n",
       " 'is_compartmental',\n",
       " 'is_linear',\n",
       " 'jacobian',\n",
       " 'no_input_model',\n",
       " 'nr_pools',\n",
       " 'state_variable_set']"
      ]
     },
     "execution_count": 38,
     "metadata": {},
     "output_type": "execute_result"
    }
   ],
   "source": [
    "#We could easily export all @property decorated methods and real properties as Computer instances\n",
    "#This is not implemented yet but could be achieved by putting something like the following code in \n",
    "#the bgc_md/bgc_md/resolve/MVarsAndComputers.py\n",
    "from CompartmentalSystems.smooth_reservoir_model import SmoothReservoirModel\n",
    "cl=SmoothReservoirModel\n",
    "[attr for attr in dir(cl) if isinstance(getattr(cl,attr,None),property)]\n",
    "\n",
    "\n",
    "\n"
   ]
  },
  {
   "cell_type": "code",
   "execution_count": 32,
   "metadata": {},
   "outputs": [],
   "source": [
    "# If these properties are themselves sympy expressions we can print them directly:\n",
    "\n",
    "Math()\n",
    "\n",
    "#Methods of the class that need further arguments can also be made available as Computers but this should be implemented\n",
    "#manually "
   ]
  },
  {
   "cell_type": "code",
   "execution_count": 33,
   "metadata": {},
   "outputs": [
    {
     "data": {
      "text/plain": [
       "['F',\n",
       " '__class__',\n",
       " '__delattr__',\n",
       " '__dict__',\n",
       " '__dir__',\n",
       " '__doc__',\n",
       " '__eq__',\n",
       " '__format__',\n",
       " '__ge__',\n",
       " '__getattribute__',\n",
       " '__gt__',\n",
       " '__hash__',\n",
       " '__init__',\n",
       " '__init_subclass__',\n",
       " '__le__',\n",
       " '__lt__',\n",
       " '__module__',\n",
       " '__ne__',\n",
       " '__new__',\n",
       " '__reduce__',\n",
       " '__reduce_ex__',\n",
       " '__repr__',\n",
       " '__setattr__',\n",
       " '__sizeof__',\n",
       " '__str__',\n",
       " '__subclasshook__',\n",
       " '__weakref__',\n",
       " '_input_flux_type',\n",
       " '_internal_flux_type',\n",
       " '_output_flux_type',\n",
       " 'age_moment_system',\n",
       " 'all_fluxes',\n",
       " 'compartmental_matrix',\n",
       " 'external_inputs',\n",
       " 'external_outputs',\n",
       " 'figure',\n",
       " 'free_symbols',\n",
       " 'from_B_u',\n",
       " 'from_state_variable_indexed_fluxes',\n",
       " 'function_expressions',\n",
       " 'internal_inputs',\n",
       " 'internal_outputs',\n",
       " 'is_compartmental',\n",
       " 'is_linear',\n",
       " 'is_state_dependent',\n",
       " 'jacobian',\n",
       " 'no_input_model',\n",
       " 'nr_pools',\n",
       " 'port_controlled_Hamiltonian_representation',\n",
       " 'state_variable_set',\n",
       " 'steady_states',\n",
       " 'subs',\n",
       " 'to_14C_explicit',\n",
       " 'to_14C_only',\n",
       " 'xi_T_N_u_representation']"
      ]
     },
     "execution_count": 33,
     "metadata": {},
     "output_type": "execute_result"
    }
   ],
   "source": [
    "dir(cl)\n",
    "\n",
    "\n"
   ]
  },
  {
   "cell_type": "code",
   "execution_count": 6,
   "metadata": {},
   "outputs": [
    {
     "name": "stdout",
     "output_type": "stream",
     "text": [
      "############################################\n",
      "in function: srcPath\n",
      "p = /home/mm/bgc-md/prototypes/ModelsAsScriptsWithSpecialVarNames/models/testFivePool/source.py\n",
      " type: <class 'pathlib.PosixPath'>\n",
      "############################################\n"
     ]
    }
   ],
   "source": [
    "\n",
    "md2=get_bgc(var_name=\"smooth_reservoir_model\",model_id='testFivePool')\n"
   ]
  },
  {
   "cell_type": "code",
   "execution_count": 13,
   "metadata": {},
   "outputs": [
    {
     "name": "stdout",
     "output_type": "stream",
     "text": [
      "############################################\n",
      "in function: srcPath\n",
      "p = /home/mm/bgc-md/prototypes/ModelsAsScriptsWithSpecialVarNames/models/testFivePool/source.py\n",
      " type: <class 'pathlib.PosixPath'>\n",
      "############################################\n"
     ]
    }
   ],
   "source": [
    "ns=populated_namespace('testFivePool')[\"special_vars\"]\n"
   ]
  },
  {
   "cell_type": "code",
   "execution_count": 14,
   "metadata": {},
   "outputs": [],
   "source": [
    "md3=ns[\"smooth_reservoir_model\"]\n"
   ]
  },
  {
   "cell_type": "code",
   "execution_count": 18,
   "metadata": {},
   "outputs": [
    {
     "name": "stdout",
     "output_type": "stream",
     "text": [
      "############################################\n",
      "in function: srcPath\n",
      "p = /home/mm/bgc-md/prototypes/ModelsAsScriptsWithSpecialVarNames/models/testFivePool/source.py\n",
      " type: <class 'pathlib.PosixPath'>\n",
      "############################################\n"
     ]
    }
   ],
   "source": [
    "cmvs=computable_mvars(myMvars,myComputers,names_of_available_mvars(\"testFivePool\"))\n"
   ]
  },
  {
   "cell_type": "code",
   "execution_count": null,
   "metadata": {},
   "outputs": [],
   "source": []
  }
 ],
 "metadata": {
  "kernelspec": {
   "display_name": "Python 3",
   "language": "python",
   "name": "python3"
  },
  "language_info": {
   "codemirror_mode": {
    "name": "ipython",
    "version": 3
   },
   "file_extension": ".py",
   "mimetype": "text/x-python",
   "name": "python",
   "nbconvert_exporter": "python",
   "pygments_lexer": "ipython3",
   "version": "3.6.7"
  }
 },
 "nbformat": 4,
 "nbformat_minor": 2
}
