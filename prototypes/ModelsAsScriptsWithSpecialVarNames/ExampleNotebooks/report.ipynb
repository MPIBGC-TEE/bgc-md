{
 "cells": [
  {
   "cell_type": "code",
   "execution_count": 2,
   "metadata": {},
   "outputs": [],
   "source": [
    "from bgc_md.resolve.helpers import  get3, computable_mvars\n",
    "from bgc_md.resolve.MVar import MVar\n",
    "from bgc_md.resolve.Computer import Computer\n",
    "from bgc_md.resolve.functions import srm_from_B_u_tens\n",
    "from bgc_md.resolve.IndexedSet import IndexedSet\n",
    "from bgc_md.resolve.MvarsAndComputers import Mvars as myMvars\n",
    "from bgc_md.resolve.MvarsAndComputers import Computers as myComputers\n",
    "\n",
    "\n",
    "\n"
   ]
  },
  {
   "cell_type": "code",
   "execution_count": 3,
   "metadata": {},
   "outputs": [
    {
     "name": "stdout",
     "output_type": "stream",
     "text": [
      "############################################\n",
      "in function: srcPath\n",
      "p = /home/mm/bgc-md/prototypes/ModelsAsScriptsWithSpecialVarNames/models/testFivePool/source.py\n",
      " type: <class 'pathlib.PosixPath'>\n",
      "############################################\n"
     ]
    }
   ],
   "source": [
    "md=get3(var_name=\"smooth_reservoir_model\",allMvars=myMvars,allComputers=myComputers,model_id='testFivePool')\n"
   ]
  },
  {
   "cell_type": "code",
   "execution_count": 4,
   "metadata": {},
   "outputs": [
    {
     "data": {
      "text/plain": [
       "CompartmentalSystems.smooth_reservoir_model.SmoothReservoirModel"
      ]
     },
     "execution_count": 4,
     "metadata": {},
     "output_type": "execute_result"
    }
   ],
   "source": [
    "type(md)\n"
   ]
  },
  {
   "cell_type": "code",
   "execution_count": 5,
   "metadata": {},
   "outputs": [
    {
     "data": {
      "text/latex": [
       "$$\\begin{equation*}\\left[\\begin{matrix}-1 & 0 & 0 & 0 & 0\\\\0 & -1 & 0 & 0 & 0\\\\0 & 0 & -1 & 0 & 0\\\\0 & 0 & 0 & -1 & 0\\\\0 & 0 & 0 & 0 & -1\\end{matrix}\\right]\\end{equation*}$$"
      ],
      "text/plain": [
       "Matrix([\n",
       "[-1,  0,  0,  0,  0],\n",
       "[ 0, -1,  0,  0,  0],\n",
       "[ 0,  0, -1,  0,  0],\n",
       "[ 0,  0,  0, -1,  0],\n",
       "[ 0,  0,  0,  0, -1]])"
      ]
     },
     "execution_count": 5,
     "metadata": {},
     "output_type": "execute_result"
    }
   ],
   "source": [
    "md.compartmental_matrix\n"
   ]
  },
  {
   "cell_type": "code",
   "execution_count": 6,
   "metadata": {},
   "outputs": [
    {
     "data": {
      "text/plain": [
       "<bound method SmoothReservoirModel.from_state_variable_indexed_fluxes of <class 'CompartmentalSystems.smooth_reservoir_model.SmoothReservoirModel'>>"
      ]
     },
     "execution_count": 6,
     "metadata": {},
     "output_type": "execute_result"
    }
   ],
   "source": [
    "md.from_state_variable_indexed_fluxes\n"
   ]
  },
  {
   "cell_type": "code",
   "execution_count": 8,
   "metadata": {},
   "outputs": [
    {
     "name": "stdout",
     "output_type": "stream",
     "text": [
      "############################################\n",
      "in function: srcPath\n",
      "p = /home/mm/bgc-md/prototypes/ModelsAsScriptsWithSpecialVarNames/models/testFivePool/source.py\n",
      " type: <class 'pathlib.PosixPath'>\n",
      "############################################\n"
     ]
    }
   ],
   "source": [
    "from bgc_md.resolve.helpers import get_bgc\n",
    "md2=get_bgc(var_name=\"smooth_reservoir_model\",model_id='testFivePool')\n"
   ]
  },
  {
   "cell_type": "code",
   "execution_count": 16,
   "metadata": {},
   "outputs": [],
   "source": [
    "from bgc_md.resolve.helpers import populated_namespace, computable_mvars, names_of_available_mvars"
   ]
  },
  {
   "cell_type": "code",
   "execution_count": 13,
   "metadata": {},
   "outputs": [
    {
     "name": "stdout",
     "output_type": "stream",
     "text": [
      "############################################\n",
      "in function: srcPath\n",
      "p = /home/mm/bgc-md/prototypes/ModelsAsScriptsWithSpecialVarNames/models/testFivePool/source.py\n",
      " type: <class 'pathlib.PosixPath'>\n",
      "############################################\n"
     ]
    }
   ],
   "source": [
    "ns=populated_namespace('testFivePool')[\"special_vars\"]\n"
   ]
  },
  {
   "cell_type": "code",
   "execution_count": 14,
   "metadata": {},
   "outputs": [],
   "source": [
    "md3=ns[\"smooth_reservoir_model\"]\n"
   ]
  },
  {
   "cell_type": "code",
   "execution_count": 18,
   "metadata": {},
   "outputs": [
    {
     "name": "stdout",
     "output_type": "stream",
     "text": [
      "############################################\n",
      "in function: srcPath\n",
      "p = /home/mm/bgc-md/prototypes/ModelsAsScriptsWithSpecialVarNames/models/testFivePool/source.py\n",
      " type: <class 'pathlib.PosixPath'>\n",
      "############################################\n"
     ]
    }
   ],
   "source": [
    "cmvs=computable_mvars(myMvars,myComputers,names_of_available_mvars(\"testFivePool\"))\n"
   ]
  },
  {
   "cell_type": "code",
   "execution_count": null,
   "metadata": {},
   "outputs": [],
   "source": []
  }
 ],
 "metadata": {
  "kernelspec": {
   "display_name": "Python 3",
   "language": "python",
   "name": "python3"
  },
  "language_info": {
   "codemirror_mode": {
    "name": "ipython",
    "version": 3
   },
   "file_extension": ".py",
   "mimetype": "text/x-python",
   "name": "python",
   "nbconvert_exporter": "python",
   "pygments_lexer": "ipython3",
   "version": "3.6.7"
  }
 },
 "nbformat": 4,
 "nbformat_minor": 2
}
